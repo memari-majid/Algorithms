{
  "nbformat": 4,
  "nbformat_minor": 0,
  "metadata": {
    "colab": {
      "name": "sparse_mat_mult_dict.ipynb",
      "provenance": [],
      "authorship_tag": "ABX9TyMYf0jPmQVUu/lORKTknB1T",
      "include_colab_link": true
    },
    "kernelspec": {
      "name": "python3",
      "display_name": "Python 3"
    },
    "language_info": {
      "name": "python"
    }
  },
  "cells": [
    {
      "cell_type": "markdown",
      "metadata": {
        "id": "view-in-github",
        "colab_type": "text"
      },
      "source": [
        "<a href=\"https://colab.research.google.com/github/memari-majid/Algorithms/blob/main/sparse_mat_mult_dict.ipynb\" target=\"_parent\"><img src=\"https://colab.research.google.com/assets/colab-badge.svg\" alt=\"Open In Colab\"/></a>"
      ]
    },
    {
      "cell_type": "markdown",
      "source": [
        "# Sparse Matrices Multiplication\n",
        "### Creating dictionary of non-zero elements"
      ],
      "metadata": {
        "id": "KckyfEF9qK9e"
      }
    },
    {
      "cell_type": "code",
      "source": [
        "def get_dict_of_nonzeros(matrix):\n",
        "    dict_of_nonzero_cells = {}\n",
        "    for i in range(len(matrix)):\n",
        "      for j in range(len(matrix[0])):\n",
        "        if matrix[i][j] != 0:\n",
        "            dict_of_nonzero_cells[(i,j)] = matrix[i][j]\n",
        "    return dict_of_nonzero_cells"
      ],
      "metadata": {
        "id": "YVsFSNxvdSEx"
      },
      "execution_count": 14,
      "outputs": []
    },
    {
      "cell_type": "markdown",
      "source": [
        "### Creating random sparse matrices"
      ],
      "metadata": {
        "id": "3H9qyedfq1Ey"
      }
    },
    {
      "cell_type": "code",
      "source": [
        "import numpy as np\n",
        "mat1 = np.random.randint(2,size=(3,5))\n",
        "print(mat1)\n",
        "mat2 = np.random.randint(2,size=(5,4))\n",
        "print(mat2)"
      ],
      "metadata": {
        "colab": {
          "base_uri": "https://localhost:8080/"
        },
        "id": "ke3gioU3qs8B",
        "outputId": "2ece3fb9-c5b9-4b7a-f427-5c6b99ed5bea"
      },
      "execution_count": 15,
      "outputs": [
        {
          "output_type": "stream",
          "name": "stdout",
          "text": [
            "[[1 0 0 0 0]\n",
            " [1 1 0 0 1]\n",
            " [0 0 0 1 1]]\n",
            "[[0 0 1 1]\n",
            " [0 1 0 0]\n",
            " [0 0 0 1]\n",
            " [0 1 1 1]\n",
            " [1 1 0 1]]\n"
          ]
        }
      ]
    },
    {
      "cell_type": "code",
      "source": [
        "if len(mat1[0]) != len(mat2):\n",
        "  print('Matrix-1 col not equal to Matrix-2 row')\n",
        "sparse_a = get_dict_of_nonzeros(mat1)\n",
        "print('First sparse matrix dict key=(row,col),value=element')\n",
        "print(sparse_a)\n",
        "print('Second sparse matrix dict key=(row,col),value=element')\n",
        "sparse_b = get_dict_of_nonzeros(mat2)\n",
        "print(sparse_b) \n",
        "matrix_c = [[0] * len(mat2[0]) for _ in range(len(mat1))]"
      ],
      "metadata": {
        "colab": {
          "base_uri": "https://localhost:8080/"
        },
        "id": "RyovdL12LVmr",
        "outputId": "beffec1d-90e8-497b-9bfb-3544214d19ac"
      },
      "execution_count": 16,
      "outputs": [
        {
          "output_type": "stream",
          "name": "stdout",
          "text": [
            "First sparse matrix dict key=(row,col),value=element\n",
            "{(0, 0): 1, (1, 0): 1, (1, 1): 1, (1, 4): 1, (2, 3): 1, (2, 4): 1}\n",
            "Second sparse matrix dict key=(row,col),value=element\n",
            "{(0, 2): 1, (0, 3): 1, (1, 1): 1, (2, 3): 1, (3, 1): 1, (3, 2): 1, (3, 3): 1, (4, 0): 1, (4, 1): 1, (4, 3): 1}\n"
          ]
        }
      ]
    },
    {
      "cell_type": "code",
      "source": [
        "# itertate through matrix-1 non-zeros\n",
        "for i, k in sparse_a.keys():\n",
        "  # iterate through all matrix-2 columns\n",
        "  for j in range(len(mat2[0])):\n",
        "    # check if the respecive non-zero exists in the second sparse matrix\n",
        "    if (k,j) in sparse_b.keys():\n",
        "      print(f'{matrix_c[i][j]} = {sparse_a[(i,k)]} * {sparse_b[(k,j)]}')\n",
        "      matrix_c[i][j] += sparse_a[(i,k)] * sparse_b[(k,j)]"
      ],
      "metadata": {
        "colab": {
          "base_uri": "https://localhost:8080/"
        },
        "id": "dY63jn04rZ4z",
        "outputId": "2d5dcb2a-7af5-4806-fd01-3104551c1617"
      },
      "execution_count": 18,
      "outputs": [
        {
          "output_type": "stream",
          "name": "stdout",
          "text": [
            "1 = 1 * 1\n",
            "1 = 1 * 1\n",
            "1 = 1 * 1\n",
            "2 = 1 * 1\n",
            "2 = 1 * 1\n",
            "1 = 1 * 1\n",
            "3 = 1 * 1\n",
            "3 = 1 * 1\n",
            "2 = 1 * 1\n",
            "1 = 1 * 1\n",
            "2 = 1 * 1\n",
            "1 = 1 * 1\n",
            "3 = 1 * 1\n",
            "3 = 1 * 1\n"
          ]
        }
      ]
    },
    {
      "cell_type": "code",
      "source": [
        "print(matrix_c)"
      ],
      "metadata": {
        "colab": {
          "base_uri": "https://localhost:8080/"
        },
        "id": "46ZdeZj5vK_Z",
        "outputId": "bceea3d6-45e8-4d97-f89b-e81831f0c48a"
      },
      "execution_count": 19,
      "outputs": [
        {
          "output_type": "stream",
          "name": "stdout",
          "text": [
            "[[0, 0, 2, 2], [2, 4, 2, 4], [2, 4, 2, 4]]\n"
          ]
        }
      ]
    }
  ]
}