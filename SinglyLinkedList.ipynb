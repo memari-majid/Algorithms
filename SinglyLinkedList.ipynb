{
  "nbformat": 4,
  "nbformat_minor": 0,
  "metadata": {
    "colab": {
      "name": "SinglyLinkedList.ipynb",
      "provenance": [],
      "authorship_tag": "ABX9TyP4FTfvGxdch043SlVw9nfk",
      "include_colab_link": true
    },
    "kernelspec": {
      "name": "python3",
      "display_name": "Python 3"
    },
    "language_info": {
      "name": "python"
    }
  },
  "cells": [
    {
      "cell_type": "markdown",
      "metadata": {
        "id": "view-in-github",
        "colab_type": "text"
      },
      "source": [
        "<a href=\"https://colab.research.google.com/github/memari-majid/Algorithms/blob/main/SinglyLinkedList.ipynb\" target=\"_parent\"><img src=\"https://colab.research.google.com/assets/colab-badge.svg\" alt=\"Open In Colab\"/></a>"
      ]
    },
    {
      "cell_type": "code",
      "execution_count": null,
      "metadata": {
        "id": "cUxP_eLuTIFp"
      },
      "outputs": [],
      "source": [
        "class Node(object):\n",
        "\n",
        "    def __init__(self, data=None, next_node=None):\n",
        "        self.data = data\n",
        "        self.next_node = next_node\n",
        "\n",
        "    def get_data(self):\n",
        "        return self.data\n",
        "\n",
        "    def get_next(self):\n",
        "        return self.next_node\n",
        "\n",
        "    def set_next(self, new_next):\n",
        "        self.next_node = new_next"
      ]
    },
    {
      "cell_type": "code",
      "source": [
        "class LinkedList(object):\n",
        "    def __init__(self, head=None):\n",
        "        self.head = head\n",
        "\n",
        "    def insert(self, data):\n",
        "      new_node = Node(data)\n",
        "      new_node.set_next(self.head)\n",
        "      self.head = new_node\n",
        "\n",
        "    def size(self):\n",
        "      current = self.head\n",
        "      count = 0\n",
        "      while current:\n",
        "          count += 1\n",
        "          current = current.get_next()\n",
        "      return count\n",
        "\n",
        "    def search(self, data):\n",
        "      current = self.head\n",
        "      found = False\n",
        "      while current and found is False:\n",
        "          if current.get_data() == data:\n",
        "              found = True\n",
        "          else:\n",
        "              current = current.get_next()\n",
        "      if current is None:\n",
        "          raise ValueError(\"Data not in list\")\n",
        "      return current\n",
        "\n",
        "    def delete(self, data):\n",
        "      current = self.head\n",
        "      previous = None\n",
        "      found = False\n",
        "      while current and found is False:\n",
        "          if current.get_data() == data:\n",
        "              found = True\n",
        "          else:\n",
        "              previous = current\n",
        "              current = current.get_next()\n",
        "      if current is None:\n",
        "          raise ValueError(\"Data not in list\")\n",
        "      if previous is None:\n",
        "          self.head = current.get_next()\n",
        "      else:\n",
        "          previous.set_next(current.get_next())"
      ],
      "metadata": {
        "id": "yoAeQZktTVDG"
      },
      "execution_count": null,
      "outputs": []
    },
    {
      "cell_type": "code",
      "source": [
        ""
      ],
      "metadata": {
        "id": "Cjvva9maTVzj"
      },
      "execution_count": null,
      "outputs": []
    }
  ]
}