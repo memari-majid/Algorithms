{
  "nbformat": 4,
  "nbformat_minor": 0,
  "metadata": {
    "colab": {
      "name": "LinearRegression.ipynb",
      "provenance": [],
      "authorship_tag": "ABX9TyP8z1eeahYhZ9e9mQMhFf36",
      "include_colab_link": true
    },
    "kernelspec": {
      "name": "python3",
      "display_name": "Python 3"
    },
    "language_info": {
      "name": "python"
    }
  },
  "cells": [
    {
      "cell_type": "markdown",
      "metadata": {
        "id": "view-in-github",
        "colab_type": "text"
      },
      "source": [
        "<a href=\"https://colab.research.google.com/github/memari-majid/Data-Struct-and-Algorithms/blob/main/LinearRegression.ipynb\" target=\"_parent\"><img src=\"https://colab.research.google.com/assets/colab-badge.svg\" alt=\"Open In Colab\"/></a>"
      ]
    },
    {
      "cell_type": "code",
      "execution_count": 2,
      "metadata": {
        "id": "5Pn4b1zndUiS"
      },
      "outputs": [],
      "source": [
        "import torch\n",
        "import torch.nn as nn"
      ]
    },
    {
      "cell_type": "code",
      "source": [
        "from torch.nn.modules.linear import Linear\n",
        "# Linear(input_features=5, out_features=7, bias=True)\n",
        "lin = nn.Linear(5, 7)\n",
        "print(lin)"
      ],
      "metadata": {
        "colab": {
          "base_uri": "https://localhost:8080/"
        },
        "id": "rRwls02MifMC",
        "outputId": "d7ce9ce8-718d-438e-c1a0-8d606571fcd0"
      },
      "execution_count": 4,
      "outputs": [
        {
          "output_type": "stream",
          "name": "stdout",
          "text": [
            "Linear(in_features=5, out_features=7, bias=True)\n"
          ]
        }
      ]
    },
    {
      "cell_type": "code",
      "source": [
        "data = (torch.randn(3, 5))\n",
        "print(data)"
      ],
      "metadata": {
        "colab": {
          "base_uri": "https://localhost:8080/"
        },
        "id": "G_Logbtpi8_u",
        "outputId": "3633d2e0-10d2-4945-f45a-549f5fcf53fc"
      },
      "execution_count": 5,
      "outputs": [
        {
          "output_type": "stream",
          "name": "stdout",
          "text": [
            "tensor([[ 0.6749,  0.8362, -0.3468, -1.3122,  1.3013],\n",
            "        [-0.1909,  0.7510, -0.9602,  0.6243,  0.0870],\n",
            "        [-0.8717,  0.8465,  0.6705, -0.9933,  1.0411]])\n"
          ]
        }
      ]
    },
    {
      "cell_type": "code",
      "source": [
        "# the second dimension of lin is 7, and the first dimension of data is 3, the resulting matrix has a shape of torch.Size([3, 7])\n",
        "print(lin(data).shape)"
      ],
      "metadata": {
        "colab": {
          "base_uri": "https://localhost:8080/"
        },
        "id": "xkgjBM-hi-be",
        "outputId": "f288bfe5-88bb-4a01-d075-2e75401c34fb"
      },
      "execution_count": 6,
      "outputs": [
        {
          "output_type": "stream",
          "name": "stdout",
          "text": [
            "torch.Size([3, 7])\n"
          ]
        }
      ]
    }
  ]
}