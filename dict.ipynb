{
  "nbformat": 4,
  "nbformat_minor": 0,
  "metadata": {
    "colab": {
      "name": "dict.ipynb",
      "provenance": [],
      "authorship_tag": "ABX9TyOeR8+eeECvqdFEviWNrsU/",
      "include_colab_link": true
    },
    "kernelspec": {
      "name": "python3",
      "display_name": "Python 3"
    },
    "language_info": {
      "name": "python"
    }
  },
  "cells": [
    {
      "cell_type": "markdown",
      "metadata": {
        "id": "view-in-github",
        "colab_type": "text"
      },
      "source": [
        "<a href=\"https://colab.research.google.com/github/memari-majid/Algorithms/blob/main/dict.ipynb\" target=\"_parent\"><img src=\"https://colab.research.google.com/assets/colab-badge.svg\" alt=\"Open In Colab\"/></a>"
      ]
    },
    {
      "cell_type": "markdown",
      "source": [
        "# Python Dictionary Comprehension\n",
        "\n",
        "* Dictionary comprehension is a method for transforming one dictionary into another dictionary.\n",
        "* A good list comprehension can make your code more expressive and thus, easier to read.\n",
        "* The way to do dictionary comprehension in Python is to be able to access the key objects and the value objects of a dictionary.\n"
      ],
      "metadata": {
        "id": "8JEsHU39ZwqM"
      }
    },
    {
      "cell_type": "code",
      "source": [
        "dict1 = {'a': 1, 'b': 2, 'c': 3, 'd': 4}"
      ],
      "metadata": {
        "id": "GZ4D-wOZaMNx"
      },
      "execution_count": null,
      "outputs": []
    },
    {
      "cell_type": "code",
      "source": [
        "dict1.keys()"
      ],
      "metadata": {
        "colab": {
          "base_uri": "https://localhost:8080/"
        },
        "id": "f5ekZKdQaz5S",
        "outputId": "6f70514a-b7a7-4d05-f294-78db897fea5b"
      },
      "execution_count": null,
      "outputs": [
        {
          "output_type": "execute_result",
          "data": {
            "text/plain": [
              "dict_keys(['a', 'b', 'c', 'd'])"
            ]
          },
          "metadata": {},
          "execution_count": 5
        }
      ]
    },
    {
      "cell_type": "code",
      "source": [
        "dict1.values()"
      ],
      "metadata": {
        "colab": {
          "base_uri": "https://localhost:8080/"
        },
        "id": "YAhUfcFmaubV",
        "outputId": "85f3b09a-41a3-4b60-96ca-d268a2cfca5c"
      },
      "execution_count": null,
      "outputs": [
        {
          "output_type": "execute_result",
          "data": {
            "text/plain": [
              "dict_values([1, 2, 3, 4])"
            ]
          },
          "metadata": {},
          "execution_count": 6
        }
      ]
    },
    {
      "cell_type": "code",
      "source": [
        "dict1.items()"
      ],
      "metadata": {
        "colab": {
          "base_uri": "https://localhost:8080/"
        },
        "id": "I22AbRERayjK",
        "outputId": "40179e50-f0fd-4357-916a-b9639d6bfd0b"
      },
      "execution_count": null,
      "outputs": [
        {
          "output_type": "execute_result",
          "data": {
            "text/plain": [
              "dict_items([('a', 1), ('b', 2), ('c', 3), ('d', 4)])"
            ]
          },
          "metadata": {},
          "execution_count": 7
        }
      ]
    },
    {
      "cell_type": "code",
      "execution_count": null,
      "metadata": {
        "id": "c8-RTTrpZtgt"
      },
      "outputs": [],
      "source": [
        "double_dict1 = {k:v*2 for (k,v) in dict1.items()}"
      ]
    },
    {
      "cell_type": "code",
      "source": [
        "print(double_dict1)"
      ],
      "metadata": {
        "colab": {
          "base_uri": "https://localhost:8080/"
        },
        "id": "_RRKU3gYbRrV",
        "outputId": "7f05de39-7a4f-4887-c3c2-24ba5da73eb6"
      },
      "execution_count": null,
      "outputs": [
        {
          "output_type": "stream",
          "name": "stdout",
          "text": [
            "{'a': 2, 'b': 4, 'c': 6, 'd': 8}\n"
          ]
        }
      ]
    },
    {
      "cell_type": "code",
      "source": [
        "dict1_keys = {k*2:v for (k,v) in dict1.items()}"
      ],
      "metadata": {
        "id": "Fxg544zabmoa"
      },
      "execution_count": null,
      "outputs": []
    },
    {
      "cell_type": "code",
      "source": [
        "print(dict1_keys)"
      ],
      "metadata": {
        "colab": {
          "base_uri": "https://localhost:8080/"
        },
        "id": "9emvzUfaboV8",
        "outputId": "e706c442-5f87-4c49-94c2-38847f81ed74"
      },
      "execution_count": null,
      "outputs": [
        {
          "output_type": "stream",
          "name": "stdout",
          "text": [
            "{'aa': 1, 'bb': 2, 'cc': 3, 'dd': 4}\n"
          ]
        }
      ]
    },
    {
      "cell_type": "code",
      "source": [
        "input = [1,0,1,1,1,2,0,0,3,7,7,8,4,7,5,6]"
      ],
      "metadata": {
        "id": "4rvvn7rzc512"
      },
      "execution_count": 23,
      "outputs": []
    },
    {
      "cell_type": "code",
      "source": [
        "# (key=element,value=count) for key in set(input)\n",
        "number_counts = {x : input.count(x) for x in set(input)}\n",
        "print('(key=element,value=count)')\n",
        "print(number_counts)"
      ],
      "metadata": {
        "colab": {
          "base_uri": "https://localhost:8080/"
        },
        "id": "Y7bbOJ5kc39z",
        "outputId": "4ec1a7e6-5b11-4495-e306-5dbfcf73ee5b"
      },
      "execution_count": 24,
      "outputs": [
        {
          "output_type": "stream",
          "name": "stdout",
          "text": [
            "(key=element,value=count)\n",
            "{0: 3, 1: 4, 2: 1, 3: 1, 4: 1, 5: 1, 6: 1, 7: 3, 8: 1}\n"
          ]
        }
      ]
    }
  ]
}