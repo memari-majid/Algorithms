{
  "nbformat": 4,
  "nbformat_minor": 0,
  "metadata": {
    "colab": {
      "name": "SparseMatrixMult.ipynb",
      "provenance": [],
      "authorship_tag": "ABX9TyOSWaC2UHRsUKa2X9kaR6i0",
      "include_colab_link": true
    },
    "kernelspec": {
      "name": "python3",
      "display_name": "Python 3"
    },
    "language_info": {
      "name": "python"
    }
  },
  "cells": [
    {
      "cell_type": "markdown",
      "metadata": {
        "id": "view-in-github",
        "colab_type": "text"
      },
      "source": [
        "<a href=\"https://colab.research.google.com/github/memari-majid/Algorithms/blob/main/SparseMatrixMult.ipynb\" target=\"_parent\"><img src=\"https://colab.research.google.com/assets/colab-badge.svg\" alt=\"Open In Colab\"/></a>"
      ]
    },
    {
      "cell_type": "code",
      "source": [
        "matrix1 = [[0, 2, 0],\n",
        "        [0, -3, 5]]"
      ],
      "metadata": {
        "id": "S3CTwyrL3ziP"
      },
      "execution_count": null,
      "outputs": []
    },
    {
      "cell_type": "code",
      "source": [
        "matrix2 = [[0, 10, 0],\n",
        "        [0, 0, 0],\n",
        "        [0, 0, 4]]"
      ],
      "metadata": {
        "id": "qsghjSBM33T0"
      },
      "execution_count": null,
      "outputs": []
    },
    {
      "cell_type": "code",
      "source": [
        "rows = len(matrix1)\n",
        "columns = len(matrix1[0])\n",
        "print(rows, columns)"
      ],
      "metadata": {
        "colab": {
          "base_uri": "https://localhost:8080/"
        },
        "id": "Nec1uzE8AU8z",
        "outputId": "fd62bae3-b6fd-463e-e223-4915a7450df5"
      },
      "execution_count": null,
      "outputs": [
        {
          "output_type": "stream",
          "name": "stdout",
          "text": [
            "2 3\n"
          ]
        }
      ]
    },
    {
      "cell_type": "code",
      "source": [
        "rows = len(matrix2)\n",
        "columns = len(matrix2[0])\n",
        "print(rows, columns)"
      ],
      "metadata": {
        "colab": {
          "base_uri": "https://localhost:8080/"
        },
        "id": "qqucLRR5Bhc-",
        "outputId": "1bc9befa-7020-4b8f-d87a-d2359142a2aa"
      },
      "execution_count": null,
      "outputs": [
        {
          "output_type": "stream",
          "name": "stdout",
          "text": [
            "3 3\n"
          ]
        }
      ]
    },
    {
      "cell_type": "code",
      "source": [
        "# result matrix size = matrix-1 row x matrix-2 column\n",
        "result = [[0] * len(matrix2[0]) for _ in range(len(matrix1))]\n",
        "# matrix-1 row length\n",
        "for i in range(len(matrix1)):\n",
        "  # matrix-2 column length\n",
        "\tfor j in range(len(matrix2[0])):\n",
        "    # matrix-2 row length\n",
        "\t\tfor k in range(len(matrix2)):\n",
        "\t\t\t# resulted matrix\n",
        "\t\t\tresult[i][j] += matrix1[i][k] * matrix2[k][j]\n",
        "\n",
        "print(result)"
      ],
      "metadata": {
        "colab": {
          "base_uri": "https://localhost:8080/"
        },
        "id": "oEQR891h5Ic7",
        "outputId": "5821e124-da1f-4f81-ad2a-f6eee3af107f"
      },
      "execution_count": null,
      "outputs": [
        {
          "output_type": "stream",
          "name": "stdout",
          "text": [
            "[[0, 0, 0], [0, 0, 20]]\n"
          ]
        }
      ]
    },
    {
      "cell_type": "code",
      "execution_count": null,
      "metadata": {
        "id": "aZlvgpyL0nEg",
        "colab": {
          "base_uri": "https://localhost:8080/"
        },
        "outputId": "a5b29676-426d-4e7b-e5ba-986dbee77b8e"
      },
      "outputs": [
        {
          "output_type": "stream",
          "name": "stdout",
          "text": [
            "[[0, 0, 0], [0, 0, 20]]\n"
          ]
        }
      ],
      "source": [
        "result = [[0] * len(matrix2[0]) for _ in range(len(matrix1))]\n",
        "for row_index, row_elements in enumerate(matrix1):\n",
        "    for element_index, row_element in enumerate(row_elements):\n",
        "        # If the matrix-1 element is not zero then iterate over all columns of matrix-2.\n",
        "        if row_element:\n",
        "            for col_index, col_element in enumerate(matrix2[element_index]):\n",
        "                result[row_index][col_index] += row_element * col_element\n",
        "print(result)"
      ]
    },
    {
      "cell_type": "markdown",
      "source": [
        "matrix-1=(m,k)\n",
        "matrix-2=(k,n)\n",
        "result = (m,n)\n",
        "Time complexity: O(m*k*n)"
      ],
      "metadata": {
        "id": "Im-aD6prEFeD"
      }
    }
  ]
}