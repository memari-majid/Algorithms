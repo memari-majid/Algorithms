{
  "nbformat": 4,
  "nbformat_minor": 0,
  "metadata": {
    "colab": {
      "name": "DoubleLinkedList.ipynb",
      "provenance": [],
      "authorship_tag": "ABX9TyNTHixRfeNhzSqksPktj5oa",
      "include_colab_link": true
    },
    "kernelspec": {
      "name": "python3",
      "display_name": "Python 3"
    },
    "language_info": {
      "name": "python"
    }
  },
  "cells": [
    {
      "cell_type": "markdown",
      "metadata": {
        "id": "view-in-github",
        "colab_type": "text"
      },
      "source": [
        "<a href=\"https://colab.research.google.com/github/memari-majid/Algorithms/blob/main/DoubleLinkedList.ipynb\" target=\"_parent\"><img src=\"https://colab.research.google.com/assets/colab-badge.svg\" alt=\"Open In Colab\"/></a>"
      ]
    },
    {
      "cell_type": "code",
      "source": [
        "class Node:\n",
        "    def __init__(self, value, next_node=None, prev_node=None):\n",
        "        self.value = value\n",
        "        self.next = next_node\n",
        "        self.prev = prev_node\n",
        "\n",
        "    def __str__(self):\n",
        "        return str(self.value)"
      ],
      "metadata": {
        "id": "4iOZVkG9Pckg"
      },
      "execution_count": null,
      "outputs": []
    },
    {
      "cell_type": "code",
      "source": [
        "class LinkedList:\n",
        "    def __init__(self, values=None):\n",
        "        self.head = None\n",
        "        self.tail = None\n",
        "        if values is not None:\n",
        "            self.add_multiple_nodes(values)\n",
        "        def __str__(self):\n",
        "        return ' -> '.join([str(node) for node in self])\n",
        "    \n",
        "    def __len__(self):\n",
        "        count = 0\n",
        "        node = self.head\n",
        "        while node:\n",
        "            count += 1\n",
        "            node = node.next\n",
        "        return count\n",
        "    \n",
        "    def __iter__(self):\n",
        "        current = self.head\n",
        "        while current:\n",
        "            yield current\n",
        "            current = current.next\n",
        "            \n",
        "    @property\n",
        "    def values(self):\n",
        "        return [node.value for node in self]\n",
        "    \n",
        "    def add_node(self, value):\n",
        "        if self.head is None:\n",
        "            self.tail = self.head = Node(value)\n",
        "        else:\n",
        "            self.tail.next = Node(value)\n",
        "            self.tail = self.tail.next\n",
        "        return self.tail\n",
        "    \n",
        "    def add_multiple_nodes(self, values):\n",
        "        for value in values:\n",
        "            self.add_node(value)\n",
        "            \n",
        "    def add_node_as_head(self, value):\n",
        "        if self.head is None:\n",
        "            self.tail = self.head = Node(value)\n",
        "        else:\n",
        "            self.head = Node(value, self.head)\n",
        "        return self.head\n",
        " "
      ],
      "metadata": {
        "id": "ewei2-NRPe2F"
      },
      "execution_count": null,
      "outputs": []
    },
    {
      "cell_type": "code",
      "source": [
        "class DoublyLinkedList(LinkedList):\n",
        "    def add_node(self, value):\n",
        "        if self.head is None:\n",
        "            self.tail = self.head = Node(value)\n",
        "        else:\n",
        "            self.tail.next = Node(value, None, self.tail)\n",
        "            self.tail = self.tail.next\n",
        "        return self\n",
        "    \n",
        "    def add_node_as_head(self, value):\n",
        "        if self.head is None:\n",
        "            self.tail = self.head = Node(value)\n",
        "        else:\n",
        "            current_head = self.head\n",
        "            self.head = Node(value, current_head)\n",
        "            current_head.prev = self.head\n",
        "        return self.head"
      ],
      "metadata": {
        "id": "Bs2qrJ5oPoSO"
      },
      "execution_count": null,
      "outputs": []
    }
  ]
}